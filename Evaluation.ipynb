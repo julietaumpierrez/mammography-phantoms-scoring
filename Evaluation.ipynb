{
 "cells": [
  {
   "cell_type": "markdown",
   "id": "85ec8bec",
   "metadata": {},
   "source": [
    "# Evaluation\n",
    "This notebook has everything you'll need to perform the evaluation of the different models presented in the report."
   ]
  },
  {
   "cell_type": "code",
   "execution_count": 5,
   "id": "ae410fc1",
   "metadata": {},
   "outputs": [],
   "source": [
    "# Imports\n",
    "import numpy as np\n",
    "import seaborn as sns\n",
    "import pandas as pd\n",
    "import matplotlib.pyplot as plt\n",
    "import cv2\n",
    "from keras_preprocessing.image import ImageDataGenerator\n",
    "from sklearn.preprocessing import LabelEncoder\n",
    "import albumentations as A\n",
    "from tensorflow.keras.utils import Sequence\n",
    "from sklearn.model_selection import train_test_split\n",
    "import cv2\n",
    "import os\n",
    "from tensorflow.keras.layers import Dense, Flatten, GlobalAveragePooling2D, BatchNormalization, Dropout,AveragePooling2D\n",
    "from tensorflow.keras.applications.resnet import ResNet50\n",
    "import tensorflow as tf\n",
    "from tensorflow.keras.applications import InceptionV3,DenseNet201,EfficientNetB7, MobileNetV2,Xception,VGG16,NASNetMobile\n",
    "from keras.applications.inception_resnet_v2 import InceptionResNetV2\n",
    "from tensorflow.keras.callbacks import ModelCheckpoint, EarlyStopping, ReduceLROnPlateau\n",
    "from keras.models import Model\n",
    "from keras.models import Sequential\n",
    "from keras.regularizers import *\n",
    "from tensorflow import keras\n",
    "from tensorflow.keras import layers\n",
    "from tensorflow.keras import backend as K"
   ]
  },
  {
   "cell_type": "code",
   "execution_count": 6,
   "id": "4311c882",
   "metadata": {},
   "outputs": [],
   "source": [
    "# Preprocessing function\n",
    "def preprocess(image):\n",
    "    kernel = np.array([[0,-1,0], [-1,5,-1], [0,-1,0]])\n",
    "    im = cv2.filter2D(image, -1, kernel)\n",
    "    out1=(cv2.normalize(im, (224,224),0, 255, cv2.NORM_MINMAX))\n",
    "    return out1"
   ]
  },
  {
   "cell_type": "code",
   "execution_count": 7,
   "id": "93f2c51f",
   "metadata": {},
   "outputs": [],
   "source": [
    "# F1 score\n",
    "class F1Score(tf.keras.metrics.Metric):\n",
    "    def __init__(self, name='f1_score', **kwargs):\n",
    "        super(F1Score, self).__init__(name=name, **kwargs)\n",
    "        self.precision = tf.keras.metrics.Precision()\n",
    "        self.recall = tf.keras.metrics.Recall()\n",
    "\n",
    "    def update_state(self, y_true, y_pred, sample_weight=None):\n",
    "        self.precision.update_state(y_true, y_pred, sample_weight)\n",
    "        self.recall.update_state(y_true, y_pred, sample_weight)\n",
    "\n",
    "    def result(self):\n",
    "        precision = self.precision.result()\n",
    "        recall = self.recall.result()\n",
    "        return 2 * ((precision * recall) / (precision + recall + K.epsilon()))\n",
    "\n",
    "    def reset_states(self):\n",
    "        self.precision.reset_states()\n",
    "        self.recall.reset_states()"
   ]
  },
  {
   "cell_type": "code",
   "execution_count": 8,
   "id": "c28a70be",
   "metadata": {},
   "outputs": [],
   "source": [
    "# Read dataset and split it in train and validation using the strat label\n",
    "train=pd.read_csv(\"content/phantom_images/Training_set.csv\")\n",
    "X_train, X_valid = train_test_split(train, test_size=0.1,stratify=train[\"stratlabel\"],shuffle=True, random_state = 42)"
   ]
  },
  {
   "cell_type": "code",
   "execution_count": 9,
   "id": "477014d9",
   "metadata": {},
   "outputs": [
    {
     "name": "stdout",
     "output_type": "stream",
     "text": [
      "Found 3873 validated image filenames belonging to 3 classes.\n"
     ]
    }
   ],
   "source": [
    "# Create the Train generator\n",
    "datagen=ImageDataGenerator(rescale=1./255,preprocessing_function=preprocess)\n",
    "train_generator=datagen.flow_from_dataframe(\n",
    "dataframe=X_train,\n",
    "directory=\"content/phantom_images/train\",\n",
    "x_col=\"filename\",\n",
    "y_col=\"label\",\n",
    "batch_size=32,\n",
    "seed=42,\n",
    "shuffle=True,\n",
    "class_mode=\"categorical\",\n",
    "target_size=(224,224))"
   ]
  },
  {
   "cell_type": "code",
   "execution_count": 10,
   "id": "cc61c8a1",
   "metadata": {},
   "outputs": [
    {
     "name": "stdout",
     "output_type": "stream",
     "text": [
      "Found 431 validated image filenames belonging to 3 classes.\n"
     ]
    }
   ],
   "source": [
    "# Create the Validation generator\n",
    "valid_datagen=ImageDataGenerator(rescale=1./255,preprocessing_function=preprocess)\n",
    "valid_generator=valid_datagen.flow_from_dataframe( \n",
    "dataframe=X_valid,\n",
    "directory=\"content/phantom_images/train\",\n",
    "x_col=\"filename\",\n",
    "y_col=\"label\",\n",
    "batch_size=32,\n",
    "seed=42,\n",
    "shuffle=True,\n",
    "class_mode=\"categorical\",\n",
    "target_size=(224,224))"
   ]
  },
  {
   "cell_type": "markdown",
   "id": "b56b349c",
   "metadata": {},
   "source": [
    "## Experiment 1:\n",
    "Only last 3 neurons"
   ]
  },
  {
   "cell_type": "code",
   "execution_count": 34,
   "id": "653f4e86",
   "metadata": {},
   "outputs": [],
   "source": [
    "model = Sequential()\n",
    "\n",
    "conv_base = DenseNet201(input_shape=(224,224,3), include_top=False, pooling='max',weights='imagenet')\n",
    "model.add(conv_base)\n",
    "model.add(BatchNormalization())\n",
    "model.add(Dense(2048, activation='relu', kernel_regularizer=l1_l2(0.01)))\n",
    "model.add(BatchNormalization())\n",
    "model.add(Dense(8, activation='softmax'))\n",
    "\n",
    "train_layers = [layer for layer in conv_base.layers[::-1][:5]]\n",
    "\n",
    "for layer in conv_base.layers:\n",
    "    if layer in train_layers:\n",
    "        layer.trainable = True\n",
    "model.build((None, 224, 224, 3))\n",
    "model.compile(\n",
    "    optimizer=tf.keras.optimizers.Adam(learning_rate=0.00001, weight_decay=0.0001),\n",
    "    loss=tf.keras.losses.CategoricalCrossentropy(label_smoothing=0.1),\n",
    "    metrics=[\n",
    "        'accuracy',\n",
    "        tf.keras.metrics.Precision(name='precision'),\n",
    "        tf.keras.metrics.Recall(name='recall'),\n",
    "        F1Score()\n",
    "    ]\n",
    ")\n",
    "model.load_weights('training_0/final_training.weights.h5')\n",
    "model.add(BatchNormalization())\n",
    "model.add(Dense(3, activation='softmax'))\n",
    "for layer in conv_base.layers:\n",
    "        layer.trainable = False\n",
    "model.layers[-1].trainable = True\n",
    "model.layers[-3].trainable = False\n",
    "model.layers[-5].trainable = False\n",
    "model.layers[-7].trainable = False"
   ]
  },
  {
   "cell_type": "code",
   "execution_count": 35,
   "id": "99ebf0d6",
   "metadata": {},
   "outputs": [],
   "source": [
    "model.load_weights(\"training_0/phantoms_training_experiment1_seeded.weights.h5\")"
   ]
  },
  {
   "cell_type": "code",
   "execution_count": 36,
   "id": "df446d48",
   "metadata": {},
   "outputs": [
    {
     "name": "stdout",
     "output_type": "stream",
     "text": [
      "\u001b[1m14/14\u001b[0m \u001b[32m━━━━━━━━━━━━━━━━━━━━\u001b[0m\u001b[37m\u001b[0m \u001b[1m18s\u001b[0m 1s/step - accuracy: 0.4485 - f1_score: 0.2988 - loss: 1.1093 - precision: 0.5118 - recall: 0.2114\n"
     ]
    }
   ],
   "source": [
    "outputs = model.evaluate(valid_generator, return_dict = True)"
   ]
  },
  {
   "cell_type": "code",
   "execution_count": 37,
   "id": "6cb8b62a",
   "metadata": {},
   "outputs": [
    {
     "name": "stdout",
     "output_type": "stream",
     "text": [
      "{'accuracy': 0.4570765793323517, 'f1_score': 0.312399297952652, 'loss': 1.1119531393051147, 'precision': 0.5105262994766235, 'recall': 0.22505800426006317}\n"
     ]
    }
   ],
   "source": [
    "print(outputs)"
   ]
  },
  {
   "cell_type": "markdown",
   "id": "59f57077",
   "metadata": {},
   "source": [
    "## Experiment 2\n",
    "8 and 3 neurons"
   ]
  },
  {
   "cell_type": "code",
   "execution_count": 38,
   "id": "08517022",
   "metadata": {},
   "outputs": [],
   "source": [
    "model = Sequential()\n",
    "\n",
    "conv_base = DenseNet201(input_shape=(224,224,3), include_top=False, pooling='max',weights='imagenet')\n",
    "model.add(conv_base)\n",
    "model.add(BatchNormalization())\n",
    "model.add(Dense(2048, activation='relu', kernel_regularizer=l1_l2(0.01)))\n",
    "model.add(BatchNormalization())\n",
    "model.add(Dense(8, activation='softmax'))\n",
    "\n",
    "train_layers = [layer for layer in conv_base.layers[::-1][:5]]\n",
    "\n",
    "for layer in conv_base.layers:\n",
    "    if layer in train_layers:\n",
    "        layer.trainable = True\n",
    "model.build((None, 224, 224, 3))\n",
    "model.compile(\n",
    "    optimizer=tf.keras.optimizers.Adam(learning_rate=0.00001, weight_decay=0.0001),\n",
    "    loss=tf.keras.losses.CategoricalCrossentropy(label_smoothing=0.1),\n",
    "    metrics=[\n",
    "        'accuracy',\n",
    "        tf.keras.metrics.Precision(name='precision'),\n",
    "        tf.keras.metrics.Recall(name='recall'),\n",
    "        F1Score()\n",
    "    ]\n",
    ")\n",
    "model.load_weights('training_0/final_training.weights.h5')\n",
    "model.add(BatchNormalization())\n",
    "model.add(Dense(3, activation='softmax'))\n",
    "for layer in conv_base.layers:\n",
    "        layer.trainable = False\n",
    "model.layers[-1].trainable = True\n",
    "model.layers[-3].trainable = True\n",
    "model.layers[-5].trainable = False\n",
    "model.layers[-7].trainable = False"
   ]
  },
  {
   "cell_type": "code",
   "execution_count": 39,
   "id": "5f1bfddd",
   "metadata": {},
   "outputs": [],
   "source": [
    "model.load_weights(\"training_0/phantoms_training_experiment2_seeded.weights.h5\")"
   ]
  },
  {
   "cell_type": "code",
   "execution_count": 40,
   "id": "ef5077c0",
   "metadata": {},
   "outputs": [
    {
     "name": "stdout",
     "output_type": "stream",
     "text": [
      "\u001b[1m14/14\u001b[0m \u001b[32m━━━━━━━━━━━━━━━━━━━━\u001b[0m\u001b[37m\u001b[0m \u001b[1m18s\u001b[0m 1s/step - accuracy: 0.5774 - f1_score: 0.3934 - loss: 0.9783 - precision: 0.6982 - recall: 0.2742\n"
     ]
    }
   ],
   "source": [
    "outputs = model.evaluate(valid_generator, return_dict = True)"
   ]
  },
  {
   "cell_type": "code",
   "execution_count": 41,
   "id": "054a0307",
   "metadata": {},
   "outputs": [
    {
     "name": "stdout",
     "output_type": "stream",
     "text": [
      "{'accuracy': 0.596287727355957, 'f1_score': 0.43934422731399536, 'loss': 0.9541032910346985, 'precision': 0.748603343963623, 'recall': 0.310904860496521}\n"
     ]
    }
   ],
   "source": [
    "print(outputs)"
   ]
  },
  {
   "cell_type": "markdown",
   "id": "26d686df",
   "metadata": {},
   "source": [
    "## Experiment 3\n",
    "All dense layers"
   ]
  },
  {
   "cell_type": "code",
   "execution_count": 42,
   "id": "ae36d4a0",
   "metadata": {},
   "outputs": [],
   "source": [
    "model = Sequential()\n",
    "\n",
    "conv_base = DenseNet201(input_shape=(224,224,3), include_top=False, pooling='max',weights='imagenet')\n",
    "model.add(conv_base)\n",
    "model.add(BatchNormalization())\n",
    "model.add(Dense(2048, activation='relu', kernel_regularizer=l1_l2(0.01)))\n",
    "model.add(BatchNormalization())\n",
    "model.add(Dense(8, activation='softmax'))\n",
    "\n",
    "train_layers = [layer for layer in conv_base.layers[::-1][:5]]\n",
    "\n",
    "for layer in conv_base.layers:\n",
    "    if layer in train_layers:\n",
    "        layer.trainable = True\n",
    "model.build((None, 224, 224, 3))\n",
    "model.compile(\n",
    "    optimizer=tf.keras.optimizers.Adam(learning_rate=0.00001, weight_decay=0.0001),\n",
    "    loss=tf.keras.losses.CategoricalCrossentropy(label_smoothing=0.1),\n",
    "    metrics=[\n",
    "        'accuracy',\n",
    "        tf.keras.metrics.Precision(name='precision'),\n",
    "        tf.keras.metrics.Recall(name='recall'),\n",
    "        F1Score()\n",
    "    ]\n",
    ")\n",
    "model.load_weights('training_0/final_training.weights.h5')\n",
    "model.add(BatchNormalization())\n",
    "model.add(Dense(3, activation='softmax'))\n",
    "for layer in conv_base.layers:\n",
    "        layer.trainable = False\n",
    "model.layers[-1].trainable = True\n",
    "model.layers[-3].trainable = True\n",
    "model.layers[-5].trainable = True\n",
    "model.layers[-7].trainable = False"
   ]
  },
  {
   "cell_type": "code",
   "execution_count": 43,
   "id": "be2f5649",
   "metadata": {},
   "outputs": [],
   "source": [
    "model.load_weights(\"training_0/phantoms_training_experiment3_seeded.weights.h5\")"
   ]
  },
  {
   "cell_type": "code",
   "execution_count": 44,
   "id": "cd72c5b3",
   "metadata": {},
   "outputs": [
    {
     "name": "stdout",
     "output_type": "stream",
     "text": [
      "\u001b[1m14/14\u001b[0m \u001b[32m━━━━━━━━━━━━━━━━━━━━\u001b[0m\u001b[37m\u001b[0m \u001b[1m19s\u001b[0m 1s/step - accuracy: 0.7785 - f1_score: 0.7892 - loss: 0.9383 - precision: 0.8371 - recall: 0.7466\n"
     ]
    }
   ],
   "source": [
    "outputs = model.evaluate(valid_generator, return_dict = True)"
   ]
  },
  {
   "cell_type": "code",
   "execution_count": 45,
   "id": "ca7e7904",
   "metadata": {},
   "outputs": [
    {
     "name": "stdout",
     "output_type": "stream",
     "text": [
      "{'accuracy': 0.7749419808387756, 'f1_score': 0.7852759957313538, 'loss': 0.947235643863678, 'precision': 0.8333333134651184, 'recall': 0.7424594163894653}\n"
     ]
    }
   ],
   "source": [
    "print(outputs)"
   ]
  },
  {
   "cell_type": "markdown",
   "id": "084232bb",
   "metadata": {},
   "source": [
    "# Experiment 4\n",
    "Same training done in the mammography repo but with the new dataset"
   ]
  },
  {
   "cell_type": "code",
   "execution_count": 46,
   "id": "260d28b1",
   "metadata": {},
   "outputs": [],
   "source": [
    "model = Sequential()\n",
    "\n",
    "conv_base = DenseNet201(input_shape=(224,224,3), include_top=False, pooling='max',weights='imagenet')\n",
    "model.add(conv_base)\n",
    "model.add(BatchNormalization())\n",
    "model.add(Dense(2048, activation='relu', kernel_regularizer=l1_l2(0.01)))\n",
    "model.add(BatchNormalization())\n",
    "model.add(Dense(8, activation='softmax'))\n",
    "\n",
    "train_layers = [layer for layer in conv_base.layers[::-1][:5]]\n",
    "\n",
    "for layer in conv_base.layers:\n",
    "    if layer in train_layers:\n",
    "        layer.trainable = True\n",
    "model.build((None, 224, 224, 3))\n",
    "model.compile(\n",
    "    optimizer=tf.keras.optimizers.Adam(learning_rate=0.00001, weight_decay=0.0001),\n",
    "    loss=tf.keras.losses.CategoricalCrossentropy(label_smoothing=0.1),\n",
    "    metrics=[\n",
    "        'accuracy',\n",
    "        tf.keras.metrics.Precision(name='precision'),\n",
    "        tf.keras.metrics.Recall(name='recall'),\n",
    "        F1Score()\n",
    "    ]\n",
    ")\n",
    "model.load_weights('training_0/final_training.weights.h5')\n",
    "model.add(BatchNormalization())\n",
    "model.add(Dense(3, activation='softmax'))\n",
    "model.layers[-1].trainable = True\n",
    "model.layers[-3].trainable = True\n",
    "model.layers[-5].trainable = True"
   ]
  },
  {
   "cell_type": "code",
   "execution_count": 47,
   "id": "bae0a07a",
   "metadata": {},
   "outputs": [],
   "source": [
    "model.load_weights(\"training_0/phantoms_training_experiment4_seeded.weights.h5\")"
   ]
  },
  {
   "cell_type": "code",
   "execution_count": 48,
   "id": "d18e7cdc",
   "metadata": {},
   "outputs": [
    {
     "name": "stdout",
     "output_type": "stream",
     "text": [
      "\u001b[1m14/14\u001b[0m \u001b[32m━━━━━━━━━━━━━━━━━━━━\u001b[0m\u001b[37m\u001b[0m \u001b[1m18s\u001b[0m 1s/step - accuracy: 0.8302 - f1_score: 0.8295 - loss: 0.7514 - precision: 0.8435 - recall: 0.8159\n"
     ]
    }
   ],
   "source": [
    "outputs = model.evaluate(valid_generator, return_dict = True)"
   ]
  },
  {
   "cell_type": "code",
   "execution_count": 49,
   "id": "b56aad7c",
   "metadata": {},
   "outputs": [
    {
     "name": "stdout",
     "output_type": "stream",
     "text": [
      "{'accuracy': 0.8259860873222351, 'f1_score': 0.8268551230430603, 'loss': 0.7500692009925842, 'precision': 0.839712917804718, 'recall': 0.814385175704956}\n"
     ]
    }
   ],
   "source": [
    "print(outputs)"
   ]
  },
  {
   "cell_type": "markdown",
   "id": "b99415db",
   "metadata": {},
   "source": [
    "# Experimento 5\n",
    "More layers"
   ]
  },
  {
   "cell_type": "code",
   "execution_count": 50,
   "id": "3263d37d",
   "metadata": {},
   "outputs": [],
   "source": [
    "model = Sequential()\n",
    "\n",
    "conv_base = ResNet50(input_shape=(224,224,3), include_top=False, pooling='max',weights='imagenet')\n",
    "model.add(conv_base)\n",
    "model.add(BatchNormalization())\n",
    "model.add(Dense(2048, activation='relu', kernel_regularizer=l1_l2(0.01)))\n",
    "model.add(BatchNormalization())\n",
    "model.add(Dense(8, activation='softmax'))\n",
    "\n",
    "train_layers = [layer for layer in conv_base.layers[::-1][:3]]\n",
    "\n",
    "for layer in conv_base.layers:\n",
    "    if layer in train_layers:\n",
    "        layer.trainable = True\n",
    "model.build((None, 224, 224, 3))\n",
    "model.compile(\n",
    "    optimizer=tf.keras.optimizers.Adam(learning_rate=0.00001, weight_decay=0.0001),\n",
    "    loss=tf.keras.losses.CategoricalCrossentropy(label_smoothing=0.1),\n",
    "    metrics=[\n",
    "        'accuracy',\n",
    "        tf.keras.metrics.Precision(name='precision'),\n",
    "        tf.keras.metrics.Recall(name='recall'),\n",
    "        F1Score()\n",
    "    ]\n",
    ")\n",
    "\n",
    "model.add(BatchNormalization())\n",
    "model.add(Dense(3, activation='softmax'))\n",
    "model.layers[-1].trainable = True\n",
    "model.layers[-3].trainable = True\n",
    "model.layers[-5].trainable = True"
   ]
  },
  {
   "cell_type": "code",
   "execution_count": 51,
   "id": "0f0f6903",
   "metadata": {},
   "outputs": [],
   "source": [
    "model.load_weights(\"training_0/phantoms_training_experiment5_seeded.weights.h5\")"
   ]
  },
  {
   "cell_type": "code",
   "execution_count": 52,
   "id": "2c6bbec6",
   "metadata": {},
   "outputs": [
    {
     "name": "stdout",
     "output_type": "stream",
     "text": [
      "\u001b[1m14/14\u001b[0m \u001b[32m━━━━━━━━━━━━━━━━━━━━\u001b[0m\u001b[37m\u001b[0m \u001b[1m11s\u001b[0m 705ms/step - accuracy: 0.7769 - f1_score: 0.7871 - loss: 0.8946 - precision: 0.8093 - recall: 0.7662\n"
     ]
    }
   ],
   "source": [
    "outputs = model.evaluate(valid_generator, return_dict = True)"
   ]
  },
  {
   "cell_type": "code",
   "execution_count": 53,
   "id": "2d39c706",
   "metadata": {},
   "outputs": [
    {
     "name": "stdout",
     "output_type": "stream",
     "text": [
      "{'accuracy': 0.7865429520606995, 'f1_score': 0.7895362377166748, 'loss': 0.8945914506912231, 'precision': 0.8097561001777649, 'recall': 0.7703016400337219}\n"
     ]
    }
   ],
   "source": [
    "print(outputs)"
   ]
  },
  {
   "cell_type": "markdown",
   "id": "6c942401",
   "metadata": {},
   "source": [
    "# Experiment 6\n",
    "Resnet"
   ]
  },
  {
   "cell_type": "code",
   "execution_count": 54,
   "id": "0e9e39d9",
   "metadata": {},
   "outputs": [],
   "source": [
    "model = Sequential()\n",
    "\n",
    "conv_base = ResNet50(input_shape=(224,224,3), include_top=False, pooling='max',weights='imagenet')\n",
    "model.add(conv_base)\n",
    "model.add(BatchNormalization())\n",
    "model.add(Dense(2048, activation='relu', kernel_regularizer=l1_l2(0.01)))\n",
    "model.add(BatchNormalization())\n",
    "model.add(Dense(8, activation='softmax'))\n",
    "\n",
    "train_layers = [layer for layer in conv_base.layers[::-1][:5]]\n",
    "\n",
    "for layer in conv_base.layers:\n",
    "    if layer in train_layers:\n",
    "        layer.trainable = True\n",
    "model.build((None, 224, 224, 3))\n",
    "model.compile(\n",
    "    optimizer=tf.keras.optimizers.Adam(learning_rate=0.00001, weight_decay=0.0001),\n",
    "    loss=tf.keras.losses.CategoricalCrossentropy(label_smoothing=0.1),\n",
    "    metrics=[\n",
    "        'accuracy',\n",
    "        tf.keras.metrics.Precision(name='precision'),\n",
    "        tf.keras.metrics.Recall(name='recall'),\n",
    "        F1Score()\n",
    "    ]\n",
    ")\n",
    "\n",
    "model.add(BatchNormalization())\n",
    "model.add(Dense(3, activation='softmax'))\n",
    "model.layers[-1].trainable = True\n",
    "model.layers[-3].trainable = True\n",
    "model.layers[-5].trainable = True"
   ]
  },
  {
   "cell_type": "code",
   "execution_count": 55,
   "id": "372b5401",
   "metadata": {},
   "outputs": [],
   "source": [
    "model.load_weights(\"training_0/phantoms_training_experiment6_seeded.weights.h5\")"
   ]
  },
  {
   "cell_type": "code",
   "execution_count": 56,
   "id": "49c32662",
   "metadata": {},
   "outputs": [
    {
     "name": "stdout",
     "output_type": "stream",
     "text": [
      "\u001b[1m14/14\u001b[0m \u001b[32m━━━━━━━━━━━━━━━━━━━━\u001b[0m\u001b[37m\u001b[0m \u001b[1m11s\u001b[0m 689ms/step - accuracy: 0.7546 - f1_score: 0.7547 - loss: 0.8962 - precision: 0.7702 - recall: 0.7399\n"
     ]
    }
   ],
   "source": [
    "outputs = model.evaluate(valid_generator, return_dict = True)"
   ]
  },
  {
   "cell_type": "code",
   "execution_count": 57,
   "id": "d455e6e6",
   "metadata": {},
   "outputs": [
    {
     "name": "stdout",
     "output_type": "stream",
     "text": [
      "{'accuracy': 0.7772621512413025, 'f1_score': 0.7719714045524597, 'loss': 0.8876537680625916, 'precision': 0.7907542586326599, 'recall': 0.7540603280067444}\n"
     ]
    }
   ],
   "source": [
    "print(outputs)"
   ]
  },
  {
   "cell_type": "markdown",
   "id": "370bc13c",
   "metadata": {},
   "source": [
    "# Experiment 7\n",
    "Inception"
   ]
  },
  {
   "cell_type": "code",
   "execution_count": 58,
   "id": "9fa70b6a",
   "metadata": {},
   "outputs": [],
   "source": [
    "model = Sequential()\n",
    "\n",
    "conv_base = InceptionV3(input_shape=(224,224,3), include_top=False, pooling='max',weights='imagenet')\n",
    "model.add(conv_base)\n",
    "model.add(BatchNormalization())\n",
    "model.add(Dense(2048, activation='relu', kernel_regularizer=l1_l2(0.01)))\n",
    "model.add(BatchNormalization())\n",
    "model.add(Dense(8, activation='softmax'))\n",
    "\n",
    "train_layers = [layer for layer in conv_base.layers[::-1][:5]]\n",
    "\n",
    "for layer in conv_base.layers:\n",
    "    if layer in train_layers:\n",
    "        layer.trainable = True\n",
    "model.build((None, 224, 224, 3))\n",
    "model.compile(\n",
    "    optimizer=tf.keras.optimizers.Adam(learning_rate=0.00001, weight_decay=0.0001),\n",
    "    loss=tf.keras.losses.CategoricalCrossentropy(label_smoothing=0.1),\n",
    "    metrics=[\n",
    "        'accuracy',\n",
    "        tf.keras.metrics.Precision(name='precision'),\n",
    "        tf.keras.metrics.Recall(name='recall'),\n",
    "        F1Score()\n",
    "    ]\n",
    ")\n",
    "\n",
    "model.add(BatchNormalization())\n",
    "model.add(Dense(3, activation='softmax'))\n",
    "model.layers[-1].trainable = True\n",
    "model.layers[-3].trainable = True\n",
    "model.layers[-5].trainable = True"
   ]
  },
  {
   "cell_type": "code",
   "execution_count": 59,
   "id": "a447ce85",
   "metadata": {},
   "outputs": [
    {
     "name": "stderr",
     "output_type": "stream",
     "text": [
      "/Users/julietaumpierrez/Desktop/breast_cancer_detection/.venv/lib/python3.10/site-packages/keras/src/saving/saving_lib.py:396: UserWarning: Skipping variable loading for optimizer 'adam', because it has 2 variables whereas the saved optimizer has 402 variables. \n",
      "  trackable.load_own_variables(weights_store.get(inner_path))\n"
     ]
    }
   ],
   "source": [
    "model.load_weights(\"training_0/phantoms_training_experiment7_seeded.weights.h5\")"
   ]
  },
  {
   "cell_type": "code",
   "execution_count": 60,
   "id": "0b3ec256",
   "metadata": {},
   "outputs": [
    {
     "name": "stdout",
     "output_type": "stream",
     "text": [
      "\u001b[1m14/14\u001b[0m \u001b[32m━━━━━━━━━━━━━━━━━━━━\u001b[0m\u001b[37m\u001b[0m \u001b[1m8s\u001b[0m 491ms/step - accuracy: 0.7856 - f1_score: 0.7889 - loss: 0.8517 - precision: 0.8039 - recall: 0.7746\n"
     ]
    }
   ],
   "source": [
    "outputs = model.evaluate(valid_generator, return_dict = True)"
   ]
  },
  {
   "cell_type": "code",
   "execution_count": 61,
   "id": "f2910bd3",
   "metadata": {},
   "outputs": [
    {
     "name": "stdout",
     "output_type": "stream",
     "text": [
      "{'accuracy': 0.7865429520606995, 'f1_score': 0.7919620871543884, 'loss': 0.8408021330833435, 'precision': 0.8072289228439331, 'recall': 0.7772621512413025}\n"
     ]
    }
   ],
   "source": [
    "print(outputs)"
   ]
  },
  {
   "cell_type": "markdown",
   "id": "000c7b5a",
   "metadata": {},
   "source": [
    "# Experiment 8\n",
    "Change of learning rate"
   ]
  },
  {
   "cell_type": "code",
   "execution_count": 62,
   "id": "cd2e247e",
   "metadata": {},
   "outputs": [],
   "source": [
    "model = Sequential()\n",
    "\n",
    "conv_base = InceptionV3(input_shape=(224,224,3), include_top=False, pooling='max',weights='imagenet')\n",
    "model.add(conv_base)\n",
    "model.add(BatchNormalization())\n",
    "model.add(Dense(2048, activation='relu', kernel_regularizer=l1_l2(0.01)))\n",
    "model.add(BatchNormalization())\n",
    "model.add(Dense(8, activation='softmax'))\n",
    "\n",
    "train_layers = [layer for layer in conv_base.layers[::-1][:5]]\n",
    "\n",
    "for layer in conv_base.layers:\n",
    "    if layer in train_layers:\n",
    "        layer.trainable = True\n",
    "model.build((None, 224, 224, 3))\n",
    "model.compile(\n",
    "    optimizer=tf.keras.optimizers.Adam(learning_rate=0.000001, weight_decay=0.0001),\n",
    "    loss=tf.keras.losses.CategoricalCrossentropy(label_smoothing=0.1),\n",
    "    metrics=[\n",
    "        'accuracy',\n",
    "        tf.keras.metrics.Precision(name='precision'),\n",
    "        tf.keras.metrics.Recall(name='recall'),\n",
    "        F1Score()\n",
    "    ]\n",
    ")\n",
    "model.load_weights('training_0/phantoms_training_experiment7_seeded.weights.h5')\n",
    "model.add(BatchNormalization())\n",
    "model.add(Dense(3, activation='softmax'))\n",
    "model.layers[-1].trainable = True\n",
    "model.layers[-3].trainable = True\n",
    "model.layers[-5].trainable = True"
   ]
  },
  {
   "cell_type": "code",
   "execution_count": 63,
   "id": "27c2ac2c",
   "metadata": {},
   "outputs": [],
   "source": [
    "model.load_weights(\"training_0/phantoms_training_experiment8_seeded.weights.h5\")"
   ]
  },
  {
   "cell_type": "code",
   "execution_count": 64,
   "id": "c49b807a",
   "metadata": {},
   "outputs": [
    {
     "name": "stdout",
     "output_type": "stream",
     "text": [
      "\u001b[1m14/14\u001b[0m \u001b[32m━━━━━━━━━━━━━━━━━━━━\u001b[0m\u001b[37m\u001b[0m \u001b[1m8s\u001b[0m 499ms/step - accuracy: 0.7791 - f1_score: 0.7871 - loss: 0.7390 - precision: 0.8359 - recall: 0.7437\n"
     ]
    }
   ],
   "source": [
    "outputs = model.evaluate(valid_generator, return_dict = True)"
   ]
  },
  {
   "cell_type": "code",
   "execution_count": 66,
   "id": "c3e3875f",
   "metadata": {},
   "outputs": [
    {
     "name": "stdout",
     "output_type": "stream",
     "text": [
      "{'accuracy': 0.7888631224632263, 'f1_score': 0.7892813682556152, 'loss': 0.7509046196937561, 'precision': 0.8307692408561707, 'recall': 0.7517401576042175}\n"
     ]
    }
   ],
   "source": [
    "print(outputs)"
   ]
  },
  {
   "cell_type": "markdown",
   "id": "91154224",
   "metadata": {},
   "source": [
    "# Experiment 9\n",
    "No label smoothing"
   ]
  },
  {
   "cell_type": "code",
   "execution_count": 67,
   "id": "03db4b44",
   "metadata": {},
   "outputs": [],
   "source": [
    "model = Sequential()\n",
    "\n",
    "conv_base = DenseNet201(input_shape=(224,224,3), include_top=False, pooling='max',weights='imagenet')\n",
    "model.add(conv_base)\n",
    "model.add(BatchNormalization())\n",
    "model.add(Dense(2048, activation='relu', kernel_regularizer=l1_l2(0.01)))\n",
    "model.add(BatchNormalization())\n",
    "model.add(Dense(8, activation='softmax'))\n",
    "\n",
    "train_layers = [layer for layer in conv_base.layers[::-1][:5]]\n",
    "\n",
    "for layer in conv_base.layers:\n",
    "    if layer in train_layers:\n",
    "        layer.trainable = True\n",
    "model.build((None, 224, 224, 3))\n",
    "model.compile(\n",
    "    optimizer=tf.keras.optimizers.Adam(learning_rate=0.00001, weight_decay=0.0001),\n",
    "    loss=tf.keras.losses.CategoricalCrossentropy(),\n",
    "    metrics=[\n",
    "        'accuracy',\n",
    "        tf.keras.metrics.Precision(name='precision'),\n",
    "        tf.keras.metrics.Recall(name='recall'),\n",
    "        F1Score()\n",
    "    ]\n",
    ")\n",
    "model.load_weights('training_0/final_training.weights.h5')\n",
    "model.add(BatchNormalization())\n",
    "model.add(Dense(3, activation='softmax'))\n",
    "model.layers[-1].trainable = True\n",
    "model.layers[-3].trainable = True\n",
    "model.layers[-5].trainable = True"
   ]
  },
  {
   "cell_type": "code",
   "execution_count": 68,
   "id": "1738c6d9",
   "metadata": {},
   "outputs": [],
   "source": [
    "model.load_weights(\"training_0/phantoms_training_experiment9_seeded.weights.h5\")"
   ]
  },
  {
   "cell_type": "code",
   "execution_count": 69,
   "id": "187b9b8b",
   "metadata": {},
   "outputs": [
    {
     "name": "stdout",
     "output_type": "stream",
     "text": [
      "\u001b[1m14/14\u001b[0m \u001b[32m━━━━━━━━━━━━━━━━━━━━\u001b[0m\u001b[37m\u001b[0m \u001b[1m18s\u001b[0m 1s/step - accuracy: 0.7896 - f1_score: 0.7891 - loss: 0.8507 - precision: 0.7954 - recall: 0.7830\n"
     ]
    }
   ],
   "source": [
    "outputs = model.evaluate(valid_generator, return_dict = True)"
   ]
  },
  {
   "cell_type": "code",
   "execution_count": 70,
   "id": "ab651a33",
   "metadata": {},
   "outputs": [
    {
     "name": "stdout",
     "output_type": "stream",
     "text": [
      "{'accuracy': 0.814385175704956, 'f1_score': 0.8154204487800598, 'loss': 0.7576074600219727, 'precision': 0.8211764693260193, 'recall': 0.8097447752952576}\n"
     ]
    }
   ],
   "source": [
    "print(outputs)"
   ]
  },
  {
   "cell_type": "markdown",
   "id": "09ce5516",
   "metadata": {},
   "source": [
    "# Experiment 10\n",
    "Data augmentation"
   ]
  },
  {
   "cell_type": "code",
   "execution_count": 71,
   "id": "56cbe8ec",
   "metadata": {},
   "outputs": [
    {
     "name": "stdout",
     "output_type": "stream",
     "text": [
      "Found 3873 validated image filenames belonging to 3 classes.\n"
     ]
    }
   ],
   "source": [
    "datagen_aug=ImageDataGenerator(rescale=1./255,preprocessing_function=preprocess,vertical_flip=True)\n",
    "train_generator_aug=datagen_aug.flow_from_dataframe(\n",
    "dataframe=X_train,\n",
    "directory=\"content/phantom_images/train\",\n",
    "x_col=\"filename\",\n",
    "y_col=\"label\",\n",
    "batch_size=32,\n",
    "seed=42,\n",
    "shuffle=True,\n",
    "class_mode=\"categorical\",\n",
    "target_size=(224,224))"
   ]
  },
  {
   "cell_type": "code",
   "execution_count": 72,
   "id": "1af1b7fe",
   "metadata": {},
   "outputs": [
    {
     "name": "stderr",
     "output_type": "stream",
     "text": [
      "/Users/julietaumpierrez/Desktop/breast_cancer_detection/.venv/lib/python3.10/site-packages/keras/src/saving/saving_lib.py:396: UserWarning: Skipping variable loading for optimizer 'adam', because it has 2 variables whereas the saved optimizer has 1222 variables. \n",
      "  trackable.load_own_variables(weights_store.get(inner_path))\n"
     ]
    }
   ],
   "source": [
    "model = Sequential()\n",
    "\n",
    "conv_base = DenseNet201(input_shape=(224,224,3), include_top=False, pooling='max',weights='imagenet')\n",
    "model.add(conv_base)\n",
    "model.add(BatchNormalization())\n",
    "model.add(Dense(2048, activation='relu', kernel_regularizer=l1_l2(0.01)))\n",
    "model.add(BatchNormalization())\n",
    "model.add(Dense(8, activation='softmax'))\n",
    "\n",
    "train_layers = [layer for layer in conv_base.layers[::-1][:5]]\n",
    "\n",
    "for layer in conv_base.layers:\n",
    "    if layer in train_layers:\n",
    "        layer.trainable = True\n",
    "model.build((None, 224, 224, 3))\n",
    "model.compile(\n",
    "    optimizer=tf.keras.optimizers.Adam(learning_rate=0.00001, weight_decay=0.0001),\n",
    "    loss=tf.keras.losses.CategoricalCrossentropy(label_smoothing=0.1),\n",
    "    metrics=[\n",
    "        'accuracy',\n",
    "        tf.keras.metrics.Precision(name='precision'),\n",
    "        tf.keras.metrics.Recall(name='recall'),\n",
    "        F1Score()\n",
    "    ]\n",
    ")\n",
    "model.load_weights('training_0/final_training.weights.h5')\n",
    "model.add(BatchNormalization())\n",
    "model.add(Dense(3, activation='softmax'))\n",
    "model.layers[-1].trainable = True\n",
    "model.layers[-3].trainable = True\n",
    "model.layers[-5].trainable = True"
   ]
  },
  {
   "cell_type": "code",
   "execution_count": 73,
   "id": "59f082ba",
   "metadata": {},
   "outputs": [
    {
     "name": "stderr",
     "output_type": "stream",
     "text": [
      "/Users/julietaumpierrez/Desktop/breast_cancer_detection/.venv/lib/python3.10/site-packages/keras/src/saving/saving_lib.py:396: UserWarning: Skipping variable loading for optimizer 'adam', because it has 2 variables whereas the saved optimizer has 1230 variables. \n",
      "  trackable.load_own_variables(weights_store.get(inner_path))\n"
     ]
    }
   ],
   "source": [
    "model.load_weights(\"training_0/phantoms_training_experiment10_seeded.weights.h5\")"
   ]
  },
  {
   "cell_type": "code",
   "execution_count": 74,
   "id": "f7cfa4a7",
   "metadata": {},
   "outputs": [
    {
     "name": "stdout",
     "output_type": "stream",
     "text": [
      "\u001b[1m14/14\u001b[0m \u001b[32m━━━━━━━━━━━━━━━━━━━━\u001b[0m\u001b[37m\u001b[0m \u001b[1m19s\u001b[0m 1s/step - accuracy: 0.8306 - f1_score: 0.8221 - loss: 0.7174 - precision: 0.8348 - recall: 0.8099\n"
     ]
    }
   ],
   "source": [
    "outputs = model.evaluate(valid_generator, return_dict = True)"
   ]
  },
  {
   "cell_type": "code",
   "execution_count": 75,
   "id": "b4506173",
   "metadata": {},
   "outputs": [
    {
     "name": "stdout",
     "output_type": "stream",
     "text": [
      "{'accuracy': 0.8352668285369873, 'f1_score': 0.8240849375724792, 'loss': 0.7321200966835022, 'precision': 0.838942289352417, 'recall': 0.8097447752952576}\n"
     ]
    }
   ],
   "source": [
    "print(outputs)"
   ]
  },
  {
   "cell_type": "markdown",
   "id": "77051c24",
   "metadata": {},
   "source": [
    "# Experiment 11\n",
    "More weight decay to the best model"
   ]
  },
  {
   "cell_type": "code",
   "execution_count": 76,
   "id": "c91e6d58",
   "metadata": {},
   "outputs": [],
   "source": [
    "model = Sequential()\n",
    "conv_base = DenseNet201(input_shape=(224,224,3), include_top=False, pooling='max',weights='imagenet')\n",
    "model.add(conv_base)\n",
    "model.add(BatchNormalization())\n",
    "model.add(Dense(2048, activation='relu', kernel_regularizer=l1_l2(0.01)))\n",
    "model.add(BatchNormalization())\n",
    "model.add(Dense(8, activation='softmax'))\n",
    "\n",
    "train_layers = [layer for layer in conv_base.layers[::-1][:5]]\n",
    "\n",
    "for layer in conv_base.layers:\n",
    "    if layer in train_layers:\n",
    "        layer.trainable = True\n",
    "model.build((None, 224, 224, 3))\n",
    "model.compile(\n",
    "    optimizer=tf.keras.optimizers.Adam(learning_rate=0.00001, weight_decay=0.001),\n",
    "    loss=tf.keras.losses.CategoricalCrossentropy(label_smoothing=0.1),\n",
    "    metrics=[\n",
    "        'accuracy',\n",
    "        tf.keras.metrics.Precision(name='precision'),\n",
    "        tf.keras.metrics.Recall(name='recall'),\n",
    "        F1Score()\n",
    "    ]\n",
    ")\n",
    "model.load_weights('training_0/final_training.weights.h5')\n",
    "model.add(BatchNormalization())\n",
    "model.add(Dense(3, activation='softmax'))\n",
    "model.layers[-1].trainable = True\n",
    "model.layers[-3].trainable = True\n",
    "model.layers[-5].trainable = True"
   ]
  },
  {
   "cell_type": "code",
   "execution_count": 77,
   "id": "41ce104b",
   "metadata": {},
   "outputs": [],
   "source": [
    "model.load_weights(\"training_0/phantoms_training_experiment11_seeded.weights.h5\")"
   ]
  },
  {
   "cell_type": "code",
   "execution_count": 78,
   "id": "40333701",
   "metadata": {},
   "outputs": [
    {
     "name": "stdout",
     "output_type": "stream",
     "text": [
      "\u001b[1m14/14\u001b[0m \u001b[32m━━━━━━━━━━━━━━━━━━━━\u001b[0m\u001b[37m\u001b[0m \u001b[1m19s\u001b[0m 1s/step - accuracy: 0.8355 - f1_score: 0.8346 - loss: 0.7762 - precision: 0.8508 - recall: 0.8190\n"
     ]
    }
   ],
   "source": [
    "outputs = model.evaluate(valid_generator, return_dict = True)"
   ]
  },
  {
   "cell_type": "code",
   "execution_count": 79,
   "id": "f7cb456e",
   "metadata": {},
   "outputs": [
    {
     "name": "stdout",
     "output_type": "stream",
     "text": [
      "{'accuracy': 0.8236659169197083, 'f1_score': 0.8236685991287231, 'loss': 0.8222232460975647, 'precision': 0.8405796885490417, 'recall': 0.8074246048927307}\n"
     ]
    }
   ],
   "source": [
    "print(outputs)"
   ]
  },
  {
   "cell_type": "markdown",
   "id": "d88bd1d6",
   "metadata": {},
   "source": [
    "# Experiment 12\n",
    "More augmentation"
   ]
  },
  {
   "cell_type": "code",
   "execution_count": 80,
   "id": "21ace0e8",
   "metadata": {},
   "outputs": [
    {
     "name": "stdout",
     "output_type": "stream",
     "text": [
      "Found 3873 validated image filenames belonging to 3 classes.\n"
     ]
    }
   ],
   "source": [
    "datagen_aug=ImageDataGenerator(rescale=1./255,preprocessing_function=preprocess,\n",
    "                               vertical_flip=True, \n",
    "                               horizontal_flip = True,\n",
    "                              zoom_range = 0.2)\n",
    "train_generator_aug=datagen_aug.flow_from_dataframe(\n",
    "dataframe=X_train,\n",
    "directory=\"content/phantom_images/train\",\n",
    "x_col=\"filename\",\n",
    "y_col=\"label\",\n",
    "batch_size=32,\n",
    "seed=42,\n",
    "shuffle=True,\n",
    "class_mode=\"categorical\",\n",
    "target_size=(224,224))"
   ]
  },
  {
   "cell_type": "code",
   "execution_count": 81,
   "id": "c5fa3388",
   "metadata": {},
   "outputs": [
    {
     "name": "stderr",
     "output_type": "stream",
     "text": [
      "/Users/julietaumpierrez/Desktop/breast_cancer_detection/.venv/lib/python3.10/site-packages/keras/src/saving/saving_lib.py:396: UserWarning: Skipping variable loading for optimizer 'adam', because it has 2 variables whereas the saved optimizer has 1222 variables. \n",
      "  trackable.load_own_variables(weights_store.get(inner_path))\n"
     ]
    }
   ],
   "source": [
    "model = Sequential()\n",
    "\n",
    "conv_base = DenseNet201(input_shape=(224,224,3), include_top=False, pooling='max',weights='imagenet')\n",
    "model.add(conv_base)\n",
    "model.add(BatchNormalization())\n",
    "model.add(Dense(2048, activation='relu', kernel_regularizer=l1_l2(0.01)))\n",
    "model.add(BatchNormalization())\n",
    "model.add(Dense(8, activation='softmax'))\n",
    "\n",
    "train_layers = [layer for layer in conv_base.layers[::-1][:5]]\n",
    "\n",
    "for layer in conv_base.layers:\n",
    "    if layer in train_layers:\n",
    "        layer.trainable = True\n",
    "model.build((None, 224, 224, 3))\n",
    "model.compile(\n",
    "    optimizer=tf.keras.optimizers.Adam(learning_rate=0.00001, weight_decay=0.0001),\n",
    "    loss=tf.keras.losses.CategoricalCrossentropy(label_smoothing=0.1),\n",
    "    metrics=[\n",
    "        'accuracy',\n",
    "        tf.keras.metrics.Precision(name='precision'),\n",
    "        tf.keras.metrics.Recall(name='recall'),\n",
    "        F1Score()\n",
    "    ]\n",
    ")\n",
    "model.load_weights('training_0/final_training.weights.h5')\n",
    "model.add(BatchNormalization())\n",
    "model.add(Dense(3, activation='softmax'))\n",
    "model.layers[-1].trainable = True\n",
    "model.layers[-3].trainable = True\n",
    "model.layers[-5].trainable = True"
   ]
  },
  {
   "cell_type": "code",
   "execution_count": 82,
   "id": "0843669e",
   "metadata": {},
   "outputs": [
    {
     "name": "stderr",
     "output_type": "stream",
     "text": [
      "/Users/julietaumpierrez/Desktop/breast_cancer_detection/.venv/lib/python3.10/site-packages/keras/src/saving/saving_lib.py:396: UserWarning: Skipping variable loading for optimizer 'adam', because it has 2 variables whereas the saved optimizer has 1230 variables. \n",
      "  trackable.load_own_variables(weights_store.get(inner_path))\n"
     ]
    }
   ],
   "source": [
    "model.load_weights(\"training_0/phantoms_training_experiment12_seeded.weights.h5\")"
   ]
  },
  {
   "cell_type": "code",
   "execution_count": 83,
   "id": "2c94fe1e",
   "metadata": {},
   "outputs": [
    {
     "name": "stdout",
     "output_type": "stream",
     "text": [
      "\u001b[1m14/14\u001b[0m \u001b[32m━━━━━━━━━━━━━━━━━━━━\u001b[0m\u001b[37m\u001b[0m \u001b[1m19s\u001b[0m 1s/step - accuracy: 0.8451 - f1_score: 0.8427 - loss: 0.8035 - precision: 0.8445 - recall: 0.8410\n"
     ]
    }
   ],
   "source": [
    "outputs = model.evaluate(valid_generator, return_dict = True)"
   ]
  },
  {
   "cell_type": "code",
   "execution_count": 84,
   "id": "80544c86",
   "metadata": {},
   "outputs": [
    {
     "name": "stdout",
     "output_type": "stream",
     "text": [
      "{'accuracy': 0.8468677401542664, 'f1_score': 0.844186007976532, 'loss': 0.775138258934021, 'precision': 0.8461538553237915, 'recall': 0.8422273993492126}\n"
     ]
    }
   ],
   "source": [
    "print(outputs)"
   ]
  },
  {
   "cell_type": "code",
   "execution_count": 85,
   "id": "8f223721",
   "metadata": {},
   "outputs": [],
   "source": [
    "model.load_weights(\"training_0/exp12_best.weights.h5\")"
   ]
  },
  {
   "cell_type": "code",
   "execution_count": 86,
   "id": "2eed7c8b",
   "metadata": {},
   "outputs": [
    {
     "name": "stdout",
     "output_type": "stream",
     "text": [
      "\u001b[1m14/14\u001b[0m \u001b[32m━━━━━━━━━━━━━━━━━━━━\u001b[0m\u001b[37m\u001b[0m \u001b[1m15s\u001b[0m 1s/step - accuracy: 0.8514 - f1_score: 0.8432 - loss: 0.8067 - precision: 0.8538 - recall: 0.8329\n"
     ]
    }
   ],
   "source": [
    "outputs = model.evaluate(valid_generator, return_dict = True)"
   ]
  },
  {
   "cell_type": "code",
   "execution_count": 87,
   "id": "88094a0a",
   "metadata": {},
   "outputs": [
    {
     "name": "stdout",
     "output_type": "stream",
     "text": [
      "{'accuracy': 0.8677493929862976, 'f1_score': 0.8604923486709595, 'loss': 0.7536768913269043, 'precision': 0.8696682453155518, 'recall': 0.8515081405639648}\n"
     ]
    }
   ],
   "source": [
    "print(outputs)"
   ]
  },
  {
   "cell_type": "code",
   "execution_count": null,
   "id": "9df3c7e5",
   "metadata": {},
   "outputs": [],
   "source": []
  }
 ],
 "metadata": {
  "kernelspec": {
   "display_name": "Python 3 (ipykernel)",
   "language": "python",
   "name": "python3"
  },
  "language_info": {
   "codemirror_mode": {
    "name": "ipython",
    "version": 3
   },
   "file_extension": ".py",
   "mimetype": "text/x-python",
   "name": "python",
   "nbconvert_exporter": "python",
   "pygments_lexer": "ipython3",
   "version": "3.10.13"
  }
 },
 "nbformat": 4,
 "nbformat_minor": 5
}
